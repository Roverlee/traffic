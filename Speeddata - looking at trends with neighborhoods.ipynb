{
 "cells": [
  {
   "cell_type": "code",
   "execution_count": 3,
   "metadata": {
    "collapsed": true
   },
   "outputs": [],
   "source": [
    "\n",
    "import warnings\n",
    "import numpy as np\n",
    "import pandas as pd\n",
    "import matplotlib\n",
    "import matplotlib.pyplot as plt\n",
    "\n",
    "\n",
    "%matplotlib inline\n",
    "import os \n",
    "\n",
    "import re\n",
    "import time\n",
    "\n",
    "\n",
    "\n",
    "import cartopy.crs as ccrs\n",
    "import cartopy.feature as cfeature\n",
    "import matplotlib.pyplot as plt\n",
    "import cartopy.io.shapereader as shpreader\n",
    "from cartopy.io.shapereader import Reader\n",
    "from cartopy.feature import ShapelyFeature\n",
    "\n",
    "from matplotlib.dates import MO, TU, WE, TH, FR, SA, SU\n",
    "\n",
    "import datetime\n",
    "\n",
    "%matplotlib inline\n",
    "pd.set_option(\"max_columns\", None)\n",
    "\n",
    "import mplleaflet\n",
    "\n",
    "import geopandas as gpd\n",
    "\n",
    "import shapely\n",
    "\n",
    "import seaborn as sns\n",
    "\n",
    "import pysal as ps\n",
    "\n",
    "from geopandas import GeoDataFrame\n",
    "from shapely.geometry import Point\n",
    "\n",
    "from scipy.stats.mstats import mode"
   ]
  },
  {
   "cell_type": "code",
   "execution_count": 4,
   "metadata": {
    "collapsed": true
   },
   "outputs": [],
   "source": [
    "#speed data with lat and lon added\n",
    "df1 = pd.read_csv (\"speedClean.csv\") "
   ]
  },
  {
   "cell_type": "code",
   "execution_count": 345,
   "metadata": {
    "collapsed": true
   },
   "outputs": [],
   "source": [
    "\n",
    "df1[\"avSpeed\"] = (df1[\"lowSpeed\"]+df1[\"highSpeed\"])/2"
   ]
  },
  {
   "cell_type": "code",
   "execution_count": 346,
   "metadata": {
    "collapsed": true
   },
   "outputs": [],
   "source": [
    "\n",
    "##also look at period matching accident data, mid 2014 - mid 2016\n",
    "\n",
    "df2 = df1.loc[(df1[\"timestamp\"] > \"2014-6-1\") & (df1[\"timestamp\"] < \"2016-6-22\")]"
   ]
  },
  {
   "cell_type": "code",
   "execution_count": 347,
   "metadata": {
    "collapsed": true
   },
   "outputs": [],
   "source": [
    "## timestamps for total df1 range from 7-2012 to 6-2016, there are 54000 or so readings\n",
    "## timestamps for df2 are oct 2015 to june 2016"
   ]
  },
  {
   "cell_type": "code",
   "execution_count": 348,
   "metadata": {},
   "outputs": [
    {
     "name": "stdout",
     "output_type": "stream",
     "text": [
      "2016-06-22 23:00:00 2012-07-31 00:00:00 54340\n"
     ]
    }
   ],
   "source": [
    "print(max(df1[\"timestamp\"]),min(df1[\"timestamp\"]),len(df1[\"timestamp\"]))"
   ]
  },
  {
   "cell_type": "code",
   "execution_count": 349,
   "metadata": {},
   "outputs": [
    {
     "name": "stdout",
     "output_type": "stream",
     "text": [
      "2016-06-22 23:00:00 2015-10-06 12:00:00 12220\n"
     ]
    }
   ],
   "source": [
    "print(max(df2[\"timestamp\"]),min(df2[\"timestamp\"]),len(df2[\"timestamp\"]))"
   ]
  },
  {
   "cell_type": "code",
   "execution_count": 1,
   "metadata": {},
   "outputs": [
    {
     "ename": "NameError",
     "evalue": "name 'df2' is not defined",
     "output_type": "error",
     "traceback": [
      "\u001b[0;31m---------------------------------------------------------------------------\u001b[0m",
      "\u001b[0;31mNameError\u001b[0m                                 Traceback (most recent call last)",
      "\u001b[0;32m<ipython-input-1-4b3fb68c54c5>\u001b[0m in \u001b[0;36m<module>\u001b[0;34m()\u001b[0m\n\u001b[0;32m----> 1\u001b[0;31m \u001b[0mtype\u001b[0m\u001b[0;34m(\u001b[0m\u001b[0mdf2\u001b[0m\u001b[0;34m[\u001b[0m\u001b[0;34m\"timestamp\"\u001b[0m\u001b[0;34m]\u001b[0m\u001b[0;34m)\u001b[0m\u001b[0;34m\u001b[0m\u001b[0m\n\u001b[0m",
      "\u001b[0;31mNameError\u001b[0m: name 'df2' is not defined"
     ]
    }
   ],
   "source": []
  },
  {
   "cell_type": "code",
   "execution_count": 350,
   "metadata": {},
   "outputs": [
    {
     "name": "stdout",
     "output_type": "stream",
     "text": [
      "['SOUTH BOSTON' 'CHARLESTOWN' 'DORCHESTER' 'WEST ROXBURY' 'ROXBURY'\n",
      " 'ALLSTON BRIGHTON' 'HYDE PARK' 'EAST BOSTON' 'BOSTON PROPER'] 9\n"
     ]
    }
   ],
   "source": [
    "## there are speed reports from these 9 neighborhoods\n",
    "print(pd.unique(df1[\"nhood\"]), len(pd.unique(df1[\"nhood\"])))"
   ]
  },
  {
   "cell_type": "code",
   "execution_count": 351,
   "metadata": {},
   "outputs": [
    {
     "name": "stdout",
     "output_type": "stream",
     "text": [
      "['DORCHESTER' 'WEST ROXBURY' 'ROXBURY' 'SOUTH BOSTON' 'ALLSTON BRIGHTON'\n",
      " 'BOSTON PROPER'] 6\n"
     ]
    }
   ],
   "source": [
    "print(pd.unique(df2[\"nhood\"]), len(pd.unique(df2[\"nhood\"])))"
   ]
  },
  {
   "cell_type": "code",
   "execution_count": 352,
   "metadata": {},
   "outputs": [
    {
     "data": {
      "text/plain": [
       "nhood\n",
       "WEST ROXBURY        17\n",
       "DORCHESTER          15\n",
       "ROXBURY             12\n",
       "SOUTH BOSTON         5\n",
       "CHARLESTOWN          3\n",
       "ALLSTON BRIGHTON     3\n",
       "HYDE PARK            2\n",
       "EAST BOSTON          1\n",
       "BOSTON PROPER        1\n",
       "Name: study_id, dtype: int64"
      ]
     },
     "execution_count": 352,
     "metadata": {},
     "output_type": "execute_result"
    }
   ],
   "source": [
    "#west rox has had the most study_ids assigned, and the highest number of readings\n",
    "df1[\"study_id\"].groupby(df1['nhood']).nunique().sort_values(ascending=False)\n",
    "\n",
    "\n"
   ]
  },
  {
   "cell_type": "code",
   "execution_count": 354,
   "metadata": {},
   "outputs": [
    {
     "data": {
      "text/plain": [
       "WEST ROXBURY        17160\n",
       "DORCHESTER          14404\n",
       "SOUTH BOSTON         7800\n",
       "ROXBURY              5616\n",
       "ALLSTON BRIGHTON     3432\n",
       "HYDE PARK            2808\n",
       "CHARLESTOWN          1560\n",
       "EAST BOSTON           936\n",
       "BOSTON PROPER         624\n",
       "Name: nhood, dtype: int64"
      ]
     },
     "execution_count": 354,
     "metadata": {},
     "output_type": "execute_result"
    }
   ],
   "source": [
    "df1['nhood'].value_counts() # this many readings per neigborhood"
   ]
  },
  {
   "cell_type": "code",
   "execution_count": 355,
   "metadata": {},
   "outputs": [
    {
     "data": {
      "text/plain": [
       "nhood\n",
       "ROXBURY             6\n",
       "WEST ROXBURY        3\n",
       "DORCHESTER          3\n",
       "SOUTH BOSTON        2\n",
       "ALLSTON BRIGHTON    2\n",
       "BOSTON PROPER       1\n",
       "Name: study_id, dtype: int64"
      ]
     },
     "execution_count": 355,
     "metadata": {},
     "output_type": "execute_result"
    }
   ],
   "source": [
    "#rox has had the most study_ids assigned\n",
    "df2[\"study_id\"].groupby(df2['nhood']).nunique().sort_values(ascending=False)\n",
    "\n"
   ]
  },
  {
   "cell_type": "code",
   "execution_count": 356,
   "metadata": {},
   "outputs": [
    {
     "data": {
      "text/plain": [
       "ALLSTON BRIGHTON    3120\n",
       "ROXBURY             3120\n",
       "DORCHESTER          2548\n",
       "WEST ROXBURY        1560\n",
       "SOUTH BOSTON        1248\n",
       "BOSTON PROPER        624\n",
       "Name: nhood, dtype: int64"
      ]
     },
     "execution_count": 356,
     "metadata": {},
     "output_type": "execute_result"
    }
   ],
   "source": [
    "df2['nhood'].value_counts() # this many readings per neigborhood"
   ]
  },
  {
   "cell_type": "code",
   "execution_count": 357,
   "metadata": {},
   "outputs": [
    {
     "data": {
      "text/plain": [
       "ALLSTON BRIGHTON    1144.000000\n",
       "BOSTON PROPER        624.000000\n",
       "CHARLESTOWN          520.000000\n",
       "DORCHESTER           960.266667\n",
       "EAST BOSTON          936.000000\n",
       "HYDE PARK           1404.000000\n",
       "ROXBURY              468.000000\n",
       "SOUTH BOSTON        1560.000000\n",
       "WEST ROXBURY        1009.411765\n",
       "dtype: float64"
      ]
     },
     "execution_count": 357,
     "metadata": {},
     "output_type": "execute_result"
    }
   ],
   "source": [
    "#av reading per studyid per nhood\n",
    "df1['nhood'].value_counts()/df1[\"study_id\"].groupby(df1['nhood']).nunique().sort_values(ascending=False)\n",
    "\n",
    "\n"
   ]
  },
  {
   "cell_type": "code",
   "execution_count": 358,
   "metadata": {},
   "outputs": [
    {
     "data": {
      "text/plain": [
       "ALLSTON BRIGHTON    1560.000000\n",
       "BOSTON PROPER        624.000000\n",
       "DORCHESTER           849.333333\n",
       "ROXBURY              520.000000\n",
       "SOUTH BOSTON         624.000000\n",
       "WEST ROXBURY         520.000000\n",
       "dtype: float64"
      ]
     },
     "execution_count": 358,
     "metadata": {},
     "output_type": "execute_result"
    }
   ],
   "source": [
    "\n",
    "#av reading per study id per nhood\n",
    "df2['nhood'].value_counts()/df2[\"study_id\"].groupby(df2['nhood']).nunique().sort_values(ascending=False)\n",
    "\n"
   ]
  },
  {
   "cell_type": "code",
   "execution_count": 359,
   "metadata": {
    "collapsed": true
   },
   "outputs": [],
   "source": [
    "## average speed per neighborhood"
   ]
  },
  {
   "cell_type": "code",
   "execution_count": 362,
   "metadata": {},
   "outputs": [
    {
     "data": {
      "text/plain": [
       "nhood\n",
       "BOSTON PROPER       41.500000\n",
       "ALLSTON BRIGHTON    40.706294\n",
       "ROXBURY             37.619658\n",
       "DORCHESTER          34.313663\n",
       "SOUTH BOSTON        34.166154\n",
       "WEST ROXBURY        33.562937\n",
       "HYDE PARK           32.769231\n",
       "EAST BOSTON         32.769231\n",
       "CHARLESTOWN         32.769231\n",
       "Name: avSpeed, dtype: float64"
      ]
     },
     "execution_count": 362,
     "metadata": {},
     "output_type": "execute_result"
    }
   ],
   "source": [
    "df1['avSpeed'].groupby(df1['nhood']).mean().sort_values(ascending=False)"
   ]
  },
  {
   "cell_type": "code",
   "execution_count": 363,
   "metadata": {},
   "outputs": [
    {
     "data": {
      "text/plain": [
       "nhood\n",
       "WEST ROXBURY        41.5\n",
       "SOUTH BOSTON        41.5\n",
       "ROXBURY             41.5\n",
       "DORCHESTER          41.5\n",
       "BOSTON PROPER       41.5\n",
       "ALLSTON BRIGHTON    41.5\n",
       "Name: avSpeed, dtype: float64"
      ]
     },
     "execution_count": 363,
     "metadata": {},
     "output_type": "execute_result"
    }
   ],
   "source": [
    "df2['avSpeed'].groupby(df2['nhood']).mean().sort_values(ascending=False)"
   ]
  },
  {
   "cell_type": "markdown",
   "metadata": {},
   "source": [
    "## number of speed readings per neighborhood\n",
    "* boston proper has high average speeds but the least amount of readings"
   ]
  },
  {
   "cell_type": "code",
   "execution_count": 369,
   "metadata": {},
   "outputs": [
    {
     "data": {
      "text/plain": [
       "nhood             study_id\n",
       "ALLSTON BRIGHTON  8315        2496\n",
       "                  8360         624\n",
       "                  7171         312\n",
       "BOSTON PROPER     8387         624\n",
       "CHARLESTOWN       7219         624\n",
       "                  7237         624\n",
       "                  7132         312\n",
       "DORCHESTER        7168        1872\n",
       "                  7243        1872\n",
       "                  7255        1872\n",
       "                  7912        1196\n",
       "                  8038        1196\n",
       "                  7135         936\n",
       "                  7144         936\n",
       "                  7147         936\n",
       "                  7156         936\n",
       "                  7138         624\n",
       "                  7159         624\n",
       "                  7222         624\n",
       "                  7228         312\n",
       "                  7249         312\n",
       "                  8039         156\n",
       "EAST BOSTON       7458         936\n",
       "HYDE PARK         7207        1872\n",
       "                  7204         936\n",
       "ROXBURY           7980        1248\n",
       "                  7987        1248\n",
       "                  7186         624\n",
       "                  7192         624\n",
       "                  7150         312\n",
       "                  7189         312\n",
       "                  7195         312\n",
       "                  7252         312\n",
       "                  7978         156\n",
       "                  7981         156\n",
       "                  7984         156\n",
       "                  7985         156\n",
       "SOUTH BOSTON      7210        3744\n",
       "                  7213        1872\n",
       "                  7129         936\n",
       "                  8296         624\n",
       "                  8350         624\n",
       "WEST ROXBURY      7162        1872\n",
       "                  7174        1872\n",
       "                  7198        1872\n",
       "                  7201        1872\n",
       "                  7216        1872\n",
       "                  7976        1248\n",
       "                  7177         936\n",
       "                  7231         936\n",
       "                  7240         936\n",
       "                  7246         936\n",
       "                  7462         936\n",
       "                  7165         624\n",
       "                  7141         312\n",
       "                  7180         312\n",
       "                  7234         312\n",
       "                  7970         156\n",
       "                  7972         156\n",
       "Name: study_id, dtype: int64"
      ]
     },
     "execution_count": 369,
     "metadata": {},
     "output_type": "execute_result"
    }
   ],
   "source": [
    "#number of readings per study id per neighborhood, looks like dorchester has the most study_ids\n",
    "df1[\"study_id\"].groupby(df1['nhood']).value_counts()"
   ]
  },
  {
   "cell_type": "code",
   "execution_count": 370,
   "metadata": {},
   "outputs": [
    {
     "data": {
      "text/plain": [
       "nhood             study_id\n",
       "ALLSTON BRIGHTON  8315        2496\n",
       "                  8360         624\n",
       "BOSTON PROPER     8387         624\n",
       "DORCHESTER        7912        1196\n",
       "                  8038        1196\n",
       "                  8039         156\n",
       "ROXBURY           7980        1248\n",
       "                  7987        1248\n",
       "                  7978         156\n",
       "                  7981         156\n",
       "                  7984         156\n",
       "                  7985         156\n",
       "SOUTH BOSTON      8296         624\n",
       "                  8350         624\n",
       "WEST ROXBURY      7976        1248\n",
       "                  7970         156\n",
       "                  7972         156\n",
       "Name: study_id, dtype: int64"
      ]
     },
     "execution_count": 370,
     "metadata": {},
     "output_type": "execute_result"
    }
   ],
   "source": [
    "df2[\"study_id\"].groupby(df2['nhood']).value_counts()"
   ]
  },
  {
   "cell_type": "code",
   "execution_count": 371,
   "metadata": {},
   "outputs": [
    {
     "data": {
      "text/plain": [
       "study_id  nhood           \n",
       "8387      BOSTON PROPER       41.500000\n",
       "7984      ROXBURY             41.500000\n",
       "8360      ALLSTON BRIGHTON    41.500000\n",
       "7912      DORCHESTER          41.500000\n",
       "7970      WEST ROXBURY        41.500000\n",
       "7972      WEST ROXBURY        41.500000\n",
       "7978      ROXBURY             41.500000\n",
       "7980      ROXBURY             41.500000\n",
       "7981      ROXBURY             41.500000\n",
       "7976      WEST ROXBURY        41.500000\n",
       "7985      ROXBURY             41.500000\n",
       "7987      ROXBURY             41.500000\n",
       "8038      DORCHESTER          41.500000\n",
       "8039      DORCHESTER          41.500000\n",
       "8296      SOUTH BOSTON        41.500000\n",
       "8315      ALLSTON BRIGHTON    41.500000\n",
       "8350      SOUTH BOSTON        41.500000\n",
       "7162      WEST ROXBURY        32.769231\n",
       "7189      ROXBURY             32.769231\n",
       "7186      ROXBURY             32.769231\n",
       "Name: avSpeed, dtype: float64"
      ]
     },
     "execution_count": 371,
     "metadata": {},
     "output_type": "execute_result"
    }
   ],
   "source": [
    "# av speed per study_id ranked, there are dif numbers of study ids per nhood though..\n",
    "df1['avSpeed'].groupby([df1['study_id'],df1['nhood']]).mean().sort_values(ascending=False).head(20)\n"
   ]
  },
  {
   "cell_type": "code",
   "execution_count": 372,
   "metadata": {},
   "outputs": [
    {
     "data": {
      "text/plain": [
       "study_id  nhood           \n",
       "8387      BOSTON PROPER       41.5\n",
       "7984      ROXBURY             41.5\n",
       "7970      WEST ROXBURY        41.5\n",
       "7972      WEST ROXBURY        41.5\n",
       "7976      WEST ROXBURY        41.5\n",
       "7978      ROXBURY             41.5\n",
       "7980      ROXBURY             41.5\n",
       "7981      ROXBURY             41.5\n",
       "7985      ROXBURY             41.5\n",
       "8360      ALLSTON BRIGHTON    41.5\n",
       "7987      ROXBURY             41.5\n",
       "8038      DORCHESTER          41.5\n",
       "8039      DORCHESTER          41.5\n",
       "8296      SOUTH BOSTON        41.5\n",
       "8315      ALLSTON BRIGHTON    41.5\n",
       "8350      SOUTH BOSTON        41.5\n",
       "7912      DORCHESTER          41.5\n",
       "Name: avSpeed, dtype: float64"
      ]
     },
     "execution_count": 372,
     "metadata": {},
     "output_type": "execute_result"
    }
   ],
   "source": [
    "df2['avSpeed'].groupby([df2['study_id'],df2['nhood']]).mean().sort_values(ascending=False).head(20)\n",
    "\n"
   ]
  },
  {
   "cell_type": "code",
   "execution_count": 373,
   "metadata": {
    "collapsed": true
   },
   "outputs": [],
   "source": [
    "# slowest average speeds by study_id"
   ]
  },
  {
   "cell_type": "code",
   "execution_count": 374,
   "metadata": {},
   "outputs": [
    {
     "data": {
      "text/plain": [
       "study_id  nhood       \n",
       "7237      CHARLESTOWN     32.769231\n",
       "7462      WEST ROXBURY    32.769231\n",
       "7458      EAST BOSTON     32.769231\n",
       "7255      DORCHESTER      32.769231\n",
       "7252      ROXBURY         32.769231\n",
       "7249      DORCHESTER      32.769231\n",
       "7246      WEST ROXBURY    32.769231\n",
       "7243      DORCHESTER      32.769231\n",
       "7240      WEST ROXBURY    32.769231\n",
       "7234      WEST ROXBURY    32.769231\n",
       "7201      WEST ROXBURY    32.769231\n",
       "7231      WEST ROXBURY    32.769231\n",
       "7228      DORCHESTER      32.769231\n",
       "7219      CHARLESTOWN     32.769231\n",
       "7216      WEST ROXBURY    32.769231\n",
       "7213      SOUTH BOSTON    32.769231\n",
       "7210      SOUTH BOSTON    32.769231\n",
       "7207      HYDE PARK       32.769231\n",
       "7204      HYDE PARK       32.769231\n",
       "7129      SOUTH BOSTON    32.769231\n",
       "Name: avSpeed, dtype: float64"
      ]
     },
     "execution_count": 374,
     "metadata": {},
     "output_type": "execute_result"
    }
   ],
   "source": [
    "df1['avSpeed'].groupby([df1['study_id'],df1['nhood']]).mean().sort_values(ascending=False).tail(20)\n",
    "\n"
   ]
  },
  {
   "cell_type": "code",
   "execution_count": 375,
   "metadata": {},
   "outputs": [
    {
     "data": {
      "text/plain": [
       "study_id  nhood           \n",
       "8387      BOSTON PROPER       41.5\n",
       "7984      ROXBURY             41.5\n",
       "7970      WEST ROXBURY        41.5\n",
       "7972      WEST ROXBURY        41.5\n",
       "7976      WEST ROXBURY        41.5\n",
       "7978      ROXBURY             41.5\n",
       "7980      ROXBURY             41.5\n",
       "7981      ROXBURY             41.5\n",
       "7985      ROXBURY             41.5\n",
       "8360      ALLSTON BRIGHTON    41.5\n",
       "7987      ROXBURY             41.5\n",
       "8038      DORCHESTER          41.5\n",
       "8039      DORCHESTER          41.5\n",
       "8296      SOUTH BOSTON        41.5\n",
       "8315      ALLSTON BRIGHTON    41.5\n",
       "8350      SOUTH BOSTON        41.5\n",
       "7912      DORCHESTER          41.5\n",
       "Name: avSpeed, dtype: float64"
      ]
     },
     "execution_count": 375,
     "metadata": {},
     "output_type": "execute_result"
    }
   ],
   "source": [
    "df2['avSpeed'].groupby([df2['study_id'],df2['nhood']]).mean().sort_values(ascending=False).tail(20)\n",
    "\n"
   ]
  },
  {
   "cell_type": "code",
   "execution_count": 376,
   "metadata": {},
   "outputs": [
    {
     "data": {
      "text/plain": [
       "nhood                  \n",
       "ALLSTON BRIGHTON  count     3432.000000\n",
       "                  mean        40.706294\n",
       "                  std         19.161526\n",
       "                  min          3.000000\n",
       "                  25%         27.000000\n",
       "                  50%         42.000000\n",
       "                  75%         57.000000\n",
       "                  max         70.000000\n",
       "BOSTON PROPER     count      624.000000\n",
       "                  mean        41.500000\n",
       "                  std         19.071884\n",
       "                  min          7.500000\n",
       "                  25%         27.000000\n",
       "                  50%         42.000000\n",
       "                  75%         57.000000\n",
       "                  max         70.000000\n",
       "CHARLESTOWN       count     1560.000000\n",
       "                  mean        32.769231\n",
       "                  std         18.357803\n",
       "                  min          3.000000\n",
       "                  25%         18.000000\n",
       "                  50%         33.000000\n",
       "                  75%         48.000000\n",
       "                  max         60.000000\n",
       "DORCHESTER        count    14404.000000\n",
       "                  mean        34.313663\n",
       "                  std         18.777095\n",
       "                  min          3.000000\n",
       "                  25%         18.000000\n",
       "                  50%         33.000000\n",
       "                               ...     \n",
       "HYDE PARK         std         18.355187\n",
       "                  min          3.000000\n",
       "                  25%         18.000000\n",
       "                  50%         33.000000\n",
       "                  75%         48.000000\n",
       "                  max         60.000000\n",
       "ROXBURY           count     5616.000000\n",
       "                  mean        37.619658\n",
       "                  std         19.243833\n",
       "                  min          3.000000\n",
       "                  25%         22.000000\n",
       "                  50%         38.000000\n",
       "                  75%         53.000000\n",
       "                  max         70.000000\n",
       "SOUTH BOSTON      count     7800.000000\n",
       "                  mean        34.166154\n",
       "                  std         18.743012\n",
       "                  min          3.000000\n",
       "                  25%         18.000000\n",
       "                  50%         33.000000\n",
       "                  75%         52.000000\n",
       "                  max         70.000000\n",
       "WEST ROXBURY      count    17160.000000\n",
       "                  mean        33.562937\n",
       "                  std         18.587877\n",
       "                  min          3.000000\n",
       "                  25%         18.000000\n",
       "                  50%         33.000000\n",
       "                  75%         48.000000\n",
       "                  max         70.000000\n",
       "Name: avSpeed, dtype: float64"
      ]
     },
     "execution_count": 376,
     "metadata": {},
     "output_type": "execute_result"
    }
   ],
   "source": [
    "#these are the study ids ranked by avSpeed of avSpeed speeed per car\n",
    "#df22.sort_values(ascending=False).head()\n",
    "df1['avSpeed'].groupby(df1['nhood']).describe()"
   ]
  },
  {
   "cell_type": "code",
   "execution_count": 377,
   "metadata": {},
   "outputs": [
    {
     "data": {
      "text/plain": [
       "nhood                  \n",
       "ALLSTON BRIGHTON  count    3120.000000\n",
       "                  mean       41.500000\n",
       "                  std        19.059651\n",
       "                  min         7.500000\n",
       "                  25%        27.000000\n",
       "                  50%        42.000000\n",
       "                  75%        57.000000\n",
       "                  max        70.000000\n",
       "BOSTON PROPER     count     624.000000\n",
       "                  mean       41.500000\n",
       "                  std        19.071884\n",
       "                  min         7.500000\n",
       "                  25%        27.000000\n",
       "                  50%        42.000000\n",
       "                  75%        57.000000\n",
       "                  max        70.000000\n",
       "DORCHESTER        count    2548.000000\n",
       "                  mean       41.500000\n",
       "                  std        19.060336\n",
       "                  min         7.500000\n",
       "                  25%        27.000000\n",
       "                  50%        42.000000\n",
       "                  75%        57.000000\n",
       "                  max        70.000000\n",
       "ROXBURY           count    3120.000000\n",
       "                  mean       41.500000\n",
       "                  std        19.059651\n",
       "                  min         7.500000\n",
       "                  25%        27.000000\n",
       "                  50%        42.000000\n",
       "                  75%        57.000000\n",
       "                  max        70.000000\n",
       "SOUTH BOSTON      count    1248.000000\n",
       "                  mean       41.500000\n",
       "                  std        19.064235\n",
       "                  min         7.500000\n",
       "                  25%        27.000000\n",
       "                  50%        42.000000\n",
       "                  75%        57.000000\n",
       "                  max        70.000000\n",
       "WEST ROXBURY      count    1560.000000\n",
       "                  mean       41.500000\n",
       "                  std        19.062707\n",
       "                  min         7.500000\n",
       "                  25%        27.000000\n",
       "                  50%        42.000000\n",
       "                  75%        57.000000\n",
       "                  max        70.000000\n",
       "Name: avSpeed, dtype: float64"
      ]
     },
     "execution_count": 377,
     "metadata": {},
     "output_type": "execute_result"
    }
   ],
   "source": [
    "df2['avSpeed'].groupby(df2['nhood']).describe()"
   ]
  },
  {
   "cell_type": "code",
   "execution_count": 379,
   "metadata": {
    "collapsed": true
   },
   "outputs": [],
   "source": [
    "\n",
    "## how to find the modeimport numpy as np\n",
    "from scipy import stats\n",
    "from scipy.stats import mode\n",
    "\n",
    "\n"
   ]
  },
  {
   "cell_type": "code",
   "execution_count": 380,
   "metadata": {
    "collapsed": true
   },
   "outputs": [],
   "source": [
    "#just speeds that are over 55\n",
    "over55df1 = df1[(df1['avSpeed']>55)]\n",
    "over55df2 = df2[(df2['avSpeed']>55)]"
   ]
  },
  {
   "cell_type": "code",
   "execution_count": 381,
   "metadata": {},
   "outputs": [
    {
     "data": {
      "text/plain": [
       "study_id  nhood           \n",
       "8315      ALLSTON BRIGHTON    768\n",
       "7210      SOUTH BOSTON        576\n",
       "7976      WEST ROXBURY        384\n",
       "7987      ROXBURY             384\n",
       "7980      ROXBURY             384\n",
       "Name: avSpeed, dtype: int64"
      ]
     },
     "execution_count": 381,
     "metadata": {},
     "output_type": "execute_result"
    }
   ],
   "source": [
    "#count of number of times those speeds clocked by study id\n",
    "over55df1['avSpeed'].groupby([over55df1['study_id'],over55df1['nhood']]).count().sort_values(ascending=False).head()\n"
   ]
  },
  {
   "cell_type": "code",
   "execution_count": 382,
   "metadata": {},
   "outputs": [
    {
     "data": {
      "text/plain": [
       "study_id  nhood           \n",
       "8315      ALLSTON BRIGHTON    768\n",
       "7987      ROXBURY             384\n",
       "7976      WEST ROXBURY        384\n",
       "7980      ROXBURY             384\n",
       "7912      DORCHESTER          368\n",
       "Name: avSpeed, dtype: int64"
      ]
     },
     "execution_count": 382,
     "metadata": {},
     "output_type": "execute_result"
    }
   ],
   "source": [
    "over55df2['avSpeed'].groupby([over55df2['study_id'],over55df2['nhood']]).count().sort_values(ascending=False).head()\n",
    "\n"
   ]
  },
  {
   "cell_type": "code",
   "execution_count": 383,
   "metadata": {
    "collapsed": true
   },
   "outputs": [],
   "source": [
    "#count of number of times those speeds clocked by nhood, but some nhoods, as a percentage\n",
    "g = over55df1['avSpeed'].groupby(over55df1['nhood']).count()\n",
    "\n"
   ]
  },
  {
   "cell_type": "code",
   "execution_count": 385,
   "metadata": {},
   "outputs": [
    {
     "data": {
      "text/plain": [
       "nhood\n",
       "WEST ROXBURY        2880\n",
       "DORCHESTER          2608\n",
       "SOUTH BOSTON        1392\n",
       "ROXBURY             1344\n",
       "ALLSTON BRIGHTON    1008\n",
       "Name: avSpeed, dtype: int64"
      ]
     },
     "execution_count": 385,
     "metadata": {},
     "output_type": "execute_result"
    }
   ],
   "source": [
    "g.sort_values(ascending=False).head()\n",
    "\n",
    "\n"
   ]
  },
  {
   "cell_type": "code",
   "execution_count": 333,
   "metadata": {
    "collapsed": true
   },
   "outputs": [],
   "source": [
    "#percentage of counts of avspeed over 55 vs total counts of all speeds per study_id per nhood\n",
    "#using full data set"
   ]
  },
  {
   "cell_type": "code",
   "execution_count": 386,
   "metadata": {
    "collapsed": true
   },
   "outputs": [],
   "source": [
    "a = over55df1['avSpeed'].groupby([over55df1['study_id'],over55df1['nhood']]).count()\n",
    "b = df1['avSpeed'].groupby([df1['study_id'],df1['nhood']]).count()"
   ]
  },
  {
   "cell_type": "code",
   "execution_count": 388,
   "metadata": {},
   "outputs": [
    {
     "data": {
      "text/plain": [
       "study_id  nhood           \n",
       "8387      BOSTON PROPER       0.307692\n",
       "7984      ROXBURY             0.307692\n",
       "8360      ALLSTON BRIGHTON    0.307692\n",
       "7912      DORCHESTER          0.307692\n",
       "7970      WEST ROXBURY        0.307692\n",
       "Name: avSpeed, dtype: float64"
      ]
     },
     "execution_count": 388,
     "metadata": {},
     "output_type": "execute_result"
    }
   ],
   "source": [
    "c = a/b\n",
    "c.sort_values(ascending=False).head()\n",
    "\n"
   ]
  },
  {
   "cell_type": "code",
   "execution_count": 390,
   "metadata": {
    "collapsed": true
   },
   "outputs": [],
   "source": [
    "h = over55df2['avSpeed'].groupby([over55df2['study_id'],over55df2['nhood']]).count()\n"
   ]
  },
  {
   "cell_type": "code",
   "execution_count": 391,
   "metadata": {},
   "outputs": [
    {
     "data": {
      "text/plain": [
       "study_id  nhood        \n",
       "8387      BOSTON PROPER    0.307692\n",
       "7984      ROXBURY          0.307692\n",
       "7970      WEST ROXBURY     0.307692\n",
       "7972      WEST ROXBURY     0.307692\n",
       "7976      WEST ROXBURY     0.307692\n",
       "Name: avSpeed, dtype: float64"
      ]
     },
     "execution_count": 391,
     "metadata": {},
     "output_type": "execute_result"
    }
   ],
   "source": [
    "i = h/b\n",
    "i.sort_values(ascending=False).head()\n",
    "\n"
   ]
  }
 ],
 "metadata": {
  "kernelspec": {
   "display_name": "Python 3",
   "language": "python",
   "name": "python3"
  },
  "language_info": {
   "codemirror_mode": {
    "name": "ipython",
    "version": 3
   },
   "file_extension": ".py",
   "mimetype": "text/x-python",
   "name": "python",
   "nbconvert_exporter": "python",
   "pygments_lexer": "ipython3",
   "version": "3.6.0"
  }
 },
 "nbformat": 4,
 "nbformat_minor": 2
}
