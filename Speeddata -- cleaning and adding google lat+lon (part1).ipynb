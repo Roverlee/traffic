{
 "cells": [
  {
   "cell_type": "code",
   "execution_count": 76,
   "metadata": {
    "collapsed": true
   },
   "outputs": [],
   "source": [
    "\n",
    "import warnings\n",
    "import numpy as np\n",
    "import pandas as pd\n",
    "\n",
    "import re\n",
    "import time\n",
    "\n",
    "\n",
    "import datetime\n",
    "\n",
    "%matplotlib inline\n",
    "pd.set_option(\"max_columns\", None)\n",
    "\n",
    "\n"
   ]
  },
  {
   "cell_type": "code",
   "execution_count": 77,
   "metadata": {
    "collapsed": true
   },
   "outputs": [],
   "source": [
    "df1 = pd.read_csv (\"speed_studies_long.csv\") \n",
    "df2 = pd.read_csv (\"speed_studies_meta.csv\")\n",
    "\n"
   ]
  },
  {
   "cell_type": "markdown",
   "metadata": {},
   "source": [
    "## clean df1 - later clean df2 before merging"
   ]
  },
  {
   "cell_type": "code",
   "execution_count": 78,
   "metadata": {
    "collapsed": true
   },
   "outputs": [],
   "source": [
    "# using this as a guide:\n",
    "#http://wavedatalab.github.io/datawithpython/munge.html"
   ]
  },
  {
   "cell_type": "code",
   "execution_count": 79,
   "metadata": {},
   "outputs": [
    {
     "data": {
      "text/plain": [
       "(53716, 5)"
      ]
     },
     "execution_count": 79,
     "metadata": {},
     "output_type": "execute_result"
    }
   ],
   "source": [
    "#df1.head()\n",
    "df1.shape"
   ]
  },
  {
   "cell_type": "code",
   "execution_count": 80,
   "metadata": {},
   "outputs": [
    {
     "data": {
      "text/plain": [
       "53716"
      ]
     },
     "execution_count": 80,
     "metadata": {},
     "output_type": "execute_result"
    }
   ],
   "source": [
    "len(df1)"
   ]
  },
  {
   "cell_type": "code",
   "execution_count": 81,
   "metadata": {},
   "outputs": [
    {
     "data": {
      "text/plain": [
       "Index(['study_id', 'direction', 'start_time', 'Speed', '0'], dtype='object')"
      ]
     },
     "execution_count": 81,
     "metadata": {},
     "output_type": "execute_result"
    }
   ],
   "source": [
    "df1.columns"
   ]
  },
  {
   "cell_type": "code",
   "execution_count": 82,
   "metadata": {},
   "outputs": [
    {
     "data": {
      "text/plain": [
       "study_id       int64\n",
       "direction     object\n",
       "start_time    object\n",
       "Speed         object\n",
       "0              int64\n",
       "dtype: object"
      ]
     },
     "execution_count": 82,
     "metadata": {},
     "output_type": "execute_result"
    }
   ],
   "source": [
    "#column type\n",
    "#g = df1.columns.to_series().groupby(df1.dtypes).groups\n",
    "#{k.name: v for k, v in g.items()}\n",
    "#or\n",
    "#list(zip(df1.columns, [type(x) for x in df1.ix[0,:]]))\n",
    "#or\n",
    "df1.dtypes"
   ]
  },
  {
   "cell_type": "code",
   "execution_count": 83,
   "metadata": {},
   "outputs": [
    {
     "data": {
      "text/html": [
       "<div>\n",
       "<table border=\"1\" class=\"dataframe\">\n",
       "  <thead>\n",
       "    <tr style=\"text-align: right;\">\n",
       "      <th></th>\n",
       "      <th>study_id</th>\n",
       "      <th>direction</th>\n",
       "      <th>start_time</th>\n",
       "      <th>Speed</th>\n",
       "      <th>0</th>\n",
       "    </tr>\n",
       "  </thead>\n",
       "  <tbody>\n",
       "  </tbody>\n",
       "</table>\n",
       "</div>"
      ],
      "text/plain": [
       "Empty DataFrame\n",
       "Columns: [study_id, direction, start_time, Speed, 0]\n",
       "Index: []"
      ]
     },
     "execution_count": 83,
     "metadata": {},
     "output_type": "execute_result"
    }
   ],
   "source": [
    "df1[df1.isnull().any(axis=1)]"
   ]
  },
  {
   "cell_type": "code",
   "execution_count": 84,
   "metadata": {},
   "outputs": [
    {
     "data": {
      "text/plain": [
       "False"
      ]
     },
     "execution_count": 84,
     "metadata": {},
     "output_type": "execute_result"
    }
   ],
   "source": [
    "df1.isnull().values.any()"
   ]
  },
  {
   "cell_type": "code",
   "execution_count": 85,
   "metadata": {},
   "outputs": [
    {
     "data": {
      "text/plain": [
       "0"
      ]
     },
     "execution_count": 85,
     "metadata": {},
     "output_type": "execute_result"
    }
   ],
   "source": [
    "df1.isnull().sum().sum()"
   ]
  },
  {
   "cell_type": "code",
   "execution_count": 86,
   "metadata": {},
   "outputs": [
    {
     "data": {
      "text/plain": [
       "False"
      ]
     },
     "execution_count": 86,
     "metadata": {},
     "output_type": "execute_result"
    }
   ],
   "source": [
    "#list(df1[df1.duplicated()])\n",
    "df1.duplicated().values.any()"
   ]
  },
  {
   "cell_type": "code",
   "execution_count": 87,
   "metadata": {},
   "outputs": [
    {
     "data": {
      "text/plain": [
       "str"
      ]
     },
     "execution_count": 87,
     "metadata": {},
     "output_type": "execute_result"
    }
   ],
   "source": [
    "type(df1.Speed[0]) #will have to be parsed before using pd to numeric"
   ]
  },
  {
   "cell_type": "code",
   "execution_count": 88,
   "metadata": {},
   "outputs": [
    {
     "data": {
      "text/html": [
       "<div>\n",
       "<table border=\"1\" class=\"dataframe\">\n",
       "  <thead>\n",
       "    <tr style=\"text-align: right;\">\n",
       "      <th></th>\n",
       "      <th>study_id</th>\n",
       "      <th>direction</th>\n",
       "      <th>start_time</th>\n",
       "      <th>Speed</th>\n",
       "      <th>0</th>\n",
       "    </tr>\n",
       "  </thead>\n",
       "  <tbody>\n",
       "  </tbody>\n",
       "</table>\n",
       "</div>"
      ],
      "text/plain": [
       "Empty DataFrame\n",
       "Columns: [study_id, direction, start_time, Speed, 0]\n",
       "Index: []"
      ]
     },
     "execution_count": 88,
     "metadata": {},
     "output_type": "execute_result"
    }
   ],
   "source": [
    "df1[df1.isnull().any(axis=1)]"
   ]
  },
  {
   "cell_type": "code",
   "execution_count": 89,
   "metadata": {},
   "outputs": [
    {
     "data": {
      "text/plain": [
       "'1-5 MPH'"
      ]
     },
     "execution_count": 89,
     "metadata": {},
     "output_type": "execute_result"
    }
   ],
   "source": [
    "df1.Speed[0]"
   ]
  },
  {
   "cell_type": "code",
   "execution_count": 90,
   "metadata": {
    "collapsed": true
   },
   "outputs": [],
   "source": [
    "df1['C'] = df1['Speed'].str.split(' ').str[0]\n",
    "\n"
   ]
  },
  {
   "cell_type": "code",
   "execution_count": 91,
   "metadata": {
    "collapsed": true
   },
   "outputs": [],
   "source": [
    "df1['C'], df1['D'] = df1['C'].str.split('-').str"
   ]
  },
  {
   "cell_type": "code",
   "execution_count": 92,
   "metadata": {
    "collapsed": true
   },
   "outputs": [],
   "source": [
    "df1[\"C\"] = df1[\"C\"].replace(\">60\", \"60\")\n",
    "df1[\"D\"] = df1[\"D\"].replace(\">60\", \"60\")"
   ]
  },
  {
   "cell_type": "code",
   "execution_count": 93,
   "metadata": {
    "collapsed": true
   },
   "outputs": [],
   "source": [
    "#df1['Speed'] = df1['Speed'].astype(str).convert_objects(convert_numeric=True)\n",
    "df1[['C']] = df1[['C']].apply(pd.to_numeric)\n",
    "df1[['D']] = df1[['D']].apply(pd.to_numeric)"
   ]
  },
  {
   "cell_type": "code",
   "execution_count": 94,
   "metadata": {},
   "outputs": [
    {
     "data": {
      "text/html": [
       "<div>\n",
       "<table border=\"1\" class=\"dataframe\">\n",
       "  <thead>\n",
       "    <tr style=\"text-align: right;\">\n",
       "      <th></th>\n",
       "      <th>study_id</th>\n",
       "      <th>direction</th>\n",
       "      <th>start_time</th>\n",
       "      <th>Speed</th>\n",
       "      <th>0</th>\n",
       "      <th>C</th>\n",
       "      <th>D</th>\n",
       "    </tr>\n",
       "  </thead>\n",
       "  <tbody>\n",
       "    <tr>\n",
       "      <th>12</th>\n",
       "      <td>7129</td>\n",
       "      <td>Westbound</td>\n",
       "      <td>2012-10-23 00:00:00</td>\n",
       "      <td>&gt;60 MPH</td>\n",
       "      <td>0</td>\n",
       "      <td>60</td>\n",
       "      <td>NaN</td>\n",
       "    </tr>\n",
       "    <tr>\n",
       "      <th>25</th>\n",
       "      <td>7129</td>\n",
       "      <td>Westbound</td>\n",
       "      <td>2012-10-23 01:00:00</td>\n",
       "      <td>&gt;60 MPH</td>\n",
       "      <td>0</td>\n",
       "      <td>60</td>\n",
       "      <td>NaN</td>\n",
       "    </tr>\n",
       "    <tr>\n",
       "      <th>38</th>\n",
       "      <td>7129</td>\n",
       "      <td>Westbound</td>\n",
       "      <td>2012-10-23 02:00:00</td>\n",
       "      <td>&gt;60 MPH</td>\n",
       "      <td>0</td>\n",
       "      <td>60</td>\n",
       "      <td>NaN</td>\n",
       "    </tr>\n",
       "    <tr>\n",
       "      <th>51</th>\n",
       "      <td>7129</td>\n",
       "      <td>Westbound</td>\n",
       "      <td>2012-10-23 03:00:00</td>\n",
       "      <td>&gt;60 MPH</td>\n",
       "      <td>0</td>\n",
       "      <td>60</td>\n",
       "      <td>NaN</td>\n",
       "    </tr>\n",
       "    <tr>\n",
       "      <th>64</th>\n",
       "      <td>7129</td>\n",
       "      <td>Westbound</td>\n",
       "      <td>2012-10-23 04:00:00</td>\n",
       "      <td>&gt;60 MPH</td>\n",
       "      <td>0</td>\n",
       "      <td>60</td>\n",
       "      <td>NaN</td>\n",
       "    </tr>\n",
       "  </tbody>\n",
       "</table>\n",
       "</div>"
      ],
      "text/plain": [
       "    study_id  direction           start_time    Speed  0   C   D\n",
       "12      7129  Westbound  2012-10-23 00:00:00  >60 MPH  0  60 NaN\n",
       "25      7129  Westbound  2012-10-23 01:00:00  >60 MPH  0  60 NaN\n",
       "38      7129  Westbound  2012-10-23 02:00:00  >60 MPH  0  60 NaN\n",
       "51      7129  Westbound  2012-10-23 03:00:00  >60 MPH  0  60 NaN\n",
       "64      7129  Westbound  2012-10-23 04:00:00  >60 MPH  0  60 NaN"
      ]
     },
     "execution_count": 94,
     "metadata": {},
     "output_type": "execute_result"
    }
   ],
   "source": [
    "df1[df1.isnull().any(axis=1)].head()"
   ]
  },
  {
   "cell_type": "code",
   "execution_count": 95,
   "metadata": {
    "collapsed": true
   },
   "outputs": [],
   "source": [
    "df1.D.fillna(df1.C, inplace=True)\n",
    "#df1[\"D\"] had empty rows"
   ]
  },
  {
   "cell_type": "code",
   "execution_count": 96,
   "metadata": {
    "collapsed": true
   },
   "outputs": [],
   "source": [
    "del df1[\"Speed\"]\n",
    "del df1[\"0\"]"
   ]
  },
  {
   "cell_type": "code",
   "execution_count": 97,
   "metadata": {},
   "outputs": [
    {
     "data": {
      "text/html": [
       "<div>\n",
       "<table border=\"1\" class=\"dataframe\">\n",
       "  <thead>\n",
       "    <tr style=\"text-align: right;\">\n",
       "      <th></th>\n",
       "      <th>study_id</th>\n",
       "      <th>direction</th>\n",
       "      <th>start_time</th>\n",
       "      <th>C</th>\n",
       "      <th>D</th>\n",
       "    </tr>\n",
       "  </thead>\n",
       "  <tbody>\n",
       "    <tr>\n",
       "      <th>0</th>\n",
       "      <td>7129</td>\n",
       "      <td>Westbound</td>\n",
       "      <td>2012-10-23 00:00:00</td>\n",
       "      <td>1</td>\n",
       "      <td>5.0</td>\n",
       "    </tr>\n",
       "    <tr>\n",
       "      <th>1</th>\n",
       "      <td>7129</td>\n",
       "      <td>Westbound</td>\n",
       "      <td>2012-10-23 00:00:00</td>\n",
       "      <td>6</td>\n",
       "      <td>10.0</td>\n",
       "    </tr>\n",
       "    <tr>\n",
       "      <th>2</th>\n",
       "      <td>7129</td>\n",
       "      <td>Westbound</td>\n",
       "      <td>2012-10-23 00:00:00</td>\n",
       "      <td>11</td>\n",
       "      <td>15.0</td>\n",
       "    </tr>\n",
       "    <tr>\n",
       "      <th>3</th>\n",
       "      <td>7129</td>\n",
       "      <td>Westbound</td>\n",
       "      <td>2012-10-23 00:00:00</td>\n",
       "      <td>16</td>\n",
       "      <td>20.0</td>\n",
       "    </tr>\n",
       "    <tr>\n",
       "      <th>4</th>\n",
       "      <td>7129</td>\n",
       "      <td>Westbound</td>\n",
       "      <td>2012-10-23 00:00:00</td>\n",
       "      <td>21</td>\n",
       "      <td>25.0</td>\n",
       "    </tr>\n",
       "  </tbody>\n",
       "</table>\n",
       "</div>"
      ],
      "text/plain": [
       "   study_id  direction           start_time   C     D\n",
       "0      7129  Westbound  2012-10-23 00:00:00   1   5.0\n",
       "1      7129  Westbound  2012-10-23 00:00:00   6  10.0\n",
       "2      7129  Westbound  2012-10-23 00:00:00  11  15.0\n",
       "3      7129  Westbound  2012-10-23 00:00:00  16  20.0\n",
       "4      7129  Westbound  2012-10-23 00:00:00  21  25.0"
      ]
     },
     "execution_count": 97,
     "metadata": {},
     "output_type": "execute_result"
    }
   ],
   "source": [
    "df1.head()"
   ]
  },
  {
   "cell_type": "code",
   "execution_count": 100,
   "metadata": {},
   "outputs": [
    {
     "name": "stdout",
     "output_type": "stream",
     "text": [
      "9999.0 5.0 70 1\n"
     ]
    }
   ],
   "source": [
    "print(max(df1.D), min(df1.D), max(df1.C), min(df1.C))"
   ]
  },
  {
   "cell_type": "code",
   "execution_count": 98,
   "metadata": {},
   "outputs": [
    {
     "data": {
      "text/plain": [
       "9999.0"
      ]
     },
     "execution_count": 98,
     "metadata": {},
     "output_type": "execute_result"
    }
   ],
   "source": [
    "max(df1[\"D\"]) #going to reset so it doesnt mess up averages, etc"
   ]
  },
  {
   "cell_type": "code",
   "execution_count": 101,
   "metadata": {
    "collapsed": true
   },
   "outputs": [],
   "source": [
    "df1[\"D\"] = df1[\"D\"].replace(\"9999\", \"70\")"
   ]
  },
  {
   "cell_type": "code",
   "execution_count": 102,
   "metadata": {
    "collapsed": true
   },
   "outputs": [],
   "source": [
    "#change start_time to timestamp from str"
   ]
  },
  {
   "cell_type": "code",
   "execution_count": 103,
   "metadata": {
    "collapsed": true
   },
   "outputs": [],
   "source": [
    "import datetime"
   ]
  },
  {
   "cell_type": "code",
   "execution_count": 104,
   "metadata": {
    "collapsed": true
   },
   "outputs": [],
   "source": [
    "timestamps = [] #set up list\n",
    "for k in range(len(df1)): #loop over every row in data set\n",
    "    timestamps.append(datetime.datetime.strptime\\\n",
    "                      (df1.start_time.iloc[k],\"%Y-%m-%d %H:%M:%S\"))\n",
    "\n",
    "   "
   ]
  },
  {
   "cell_type": "code",
   "execution_count": 105,
   "metadata": {},
   "outputs": [
    {
     "data": {
      "text/plain": [
       "pandas.tslib.Timestamp"
      ]
     },
     "execution_count": 105,
     "metadata": {},
     "output_type": "execute_result"
    }
   ],
   "source": [
    "df1[\"timestamp\"] = pd.Series(timestamps, index = df1.index)  \n",
    "df1[\"timestamp\"][0]\n",
    "type(df1.timestamp[0])"
   ]
  },
  {
   "cell_type": "code",
   "execution_count": 106,
   "metadata": {
    "collapsed": true
   },
   "outputs": [],
   "source": [
    "del df1[\"start_time\"]"
   ]
  },
  {
   "cell_type": "code",
   "execution_count": 107,
   "metadata": {
    "collapsed": true
   },
   "outputs": [],
   "source": [
    "df1 = df1.rename(columns = {\n",
    "    'C':'lowSpeed',\n",
    "    'D':'highSpeed',\n",
    "  })\n",
    "\n"
   ]
  },
  {
   "cell_type": "code",
   "execution_count": 108,
   "metadata": {},
   "outputs": [
    {
     "name": "stdout",
     "output_type": "stream",
     "text": [
      "   study_id  direction  lowSpeed highSpeed  timestamp\n",
      "0      7129  Westbound         1         5 2012-10-23\n",
      "1      7129  Westbound         6        10 2012-10-23\n",
      "2      7129  Westbound        11        15 2012-10-23\n",
      "3      7129  Westbound        16        20 2012-10-23\n",
      "4      7129  Westbound        21        25 2012-10-23 study_id              int64\n",
      "direction            object\n",
      "lowSpeed              int64\n",
      "highSpeed            object\n",
      "timestamp    datetime64[ns]\n",
      "dtype: object\n"
     ]
    }
   ],
   "source": [
    "print(df1.head(), df1.dtypes)"
   ]
  },
  {
   "cell_type": "code",
   "execution_count": 109,
   "metadata": {},
   "outputs": [
    {
     "data": {
      "text/plain": [
       "False"
      ]
     },
     "execution_count": 109,
     "metadata": {},
     "output_type": "execute_result"
    }
   ],
   "source": [
    "df1.duplicated().values.any()"
   ]
  },
  {
   "cell_type": "code",
   "execution_count": 110,
   "metadata": {
    "collapsed": true
   },
   "outputs": [],
   "source": [
    "#clean df2"
   ]
  },
  {
   "cell_type": "code",
   "execution_count": 111,
   "metadata": {
    "scrolled": true
   },
   "outputs": [
    {
     "data": {
      "text/html": [
       "<div>\n",
       "<table border=\"1\" class=\"dataframe\">\n",
       "  <thead>\n",
       "    <tr style=\"text-align: right;\">\n",
       "      <th></th>\n",
       "      <th>study_id</th>\n",
       "      <th>Address</th>\n",
       "      <th>Street</th>\n",
       "      <th>Neighborhood Code</th>\n",
       "      <th>url</th>\n",
       "      <th>Collection Date</th>\n",
       "    </tr>\n",
       "  </thead>\n",
       "  <tbody>\n",
       "    <tr>\n",
       "      <th>0</th>\n",
       "      <td>7129</td>\n",
       "      <td>71.0</td>\n",
       "      <td>A ST</td>\n",
       "      <td>SOUTH BOSTON</td>\n",
       "      <td>https://sceris.cityofboston.gov/sceriswebbtd/c...</td>\n",
       "      <td>10/23/2012</td>\n",
       "    </tr>\n",
       "    <tr>\n",
       "      <th>1</th>\n",
       "      <td>7132</td>\n",
       "      <td>26.0</td>\n",
       "      <td>ALLSTON ST</td>\n",
       "      <td>CHARLESTOWN</td>\n",
       "      <td>https://sceris.cityofboston.gov/sceriswebbtd/c...</td>\n",
       "      <td>09/18/2012</td>\n",
       "    </tr>\n",
       "    <tr>\n",
       "      <th>2</th>\n",
       "      <td>7135</td>\n",
       "      <td>576.0</td>\n",
       "      <td>ASHMONT ST</td>\n",
       "      <td>DORCHESTER</td>\n",
       "      <td>https://sceris.cityofboston.gov/sceriswebbtd/c...</td>\n",
       "      <td>01/15/2013</td>\n",
       "    </tr>\n",
       "    <tr>\n",
       "      <th>3</th>\n",
       "      <td>7138</td>\n",
       "      <td>59.0</td>\n",
       "      <td>BEAUMONT ST</td>\n",
       "      <td>DORCHESTER</td>\n",
       "      <td>https://sceris.cityofboston.gov/sceriswebbtd/c...</td>\n",
       "      <td>09/11/2012</td>\n",
       "    </tr>\n",
       "    <tr>\n",
       "      <th>4</th>\n",
       "      <td>7141</td>\n",
       "      <td>73.0</td>\n",
       "      <td>BROOKLEY RD</td>\n",
       "      <td>WEST ROXBURY</td>\n",
       "      <td>https://sceris.cityofboston.gov/sceriswebbtd/c...</td>\n",
       "      <td>12/04/2012</td>\n",
       "    </tr>\n",
       "  </tbody>\n",
       "</table>\n",
       "</div>"
      ],
      "text/plain": [
       "   study_id  Address       Street Neighborhood Code  \\\n",
       "0      7129     71.0         A ST      SOUTH BOSTON   \n",
       "1      7132     26.0   ALLSTON ST       CHARLESTOWN   \n",
       "2      7135    576.0   ASHMONT ST        DORCHESTER   \n",
       "3      7138     59.0  BEAUMONT ST        DORCHESTER   \n",
       "4      7141     73.0  BROOKLEY RD      WEST ROXBURY   \n",
       "\n",
       "                                                 url Collection Date  \n",
       "0  https://sceris.cityofboston.gov/sceriswebbtd/c...      10/23/2012  \n",
       "1  https://sceris.cityofboston.gov/sceriswebbtd/c...      09/18/2012  \n",
       "2  https://sceris.cityofboston.gov/sceriswebbtd/c...      01/15/2013  \n",
       "3  https://sceris.cityofboston.gov/sceriswebbtd/c...      09/11/2012  \n",
       "4  https://sceris.cityofboston.gov/sceriswebbtd/c...      12/04/2012  "
      ]
     },
     "execution_count": 111,
     "metadata": {},
     "output_type": "execute_result"
    }
   ],
   "source": [
    "df2.head()"
   ]
  },
  {
   "cell_type": "code",
   "execution_count": 112,
   "metadata": {},
   "outputs": [
    {
     "data": {
      "text/html": [
       "<div>\n",
       "<table border=\"1\" class=\"dataframe\">\n",
       "  <thead>\n",
       "    <tr style=\"text-align: right;\">\n",
       "      <th></th>\n",
       "      <th>study_id</th>\n",
       "      <th>Address</th>\n",
       "      <th>Street</th>\n",
       "      <th>Neighborhood Code</th>\n",
       "      <th>url</th>\n",
       "      <th>Collection Date</th>\n",
       "    </tr>\n",
       "  </thead>\n",
       "  <tbody>\n",
       "  </tbody>\n",
       "</table>\n",
       "</div>"
      ],
      "text/plain": [
       "Empty DataFrame\n",
       "Columns: [study_id, Address, Street, Neighborhood Code, url, Collection Date]\n",
       "Index: []"
      ]
     },
     "execution_count": 112,
     "metadata": {},
     "output_type": "execute_result"
    }
   ],
   "source": [
    "df2[df2.isnull().any(axis=1)]"
   ]
  },
  {
   "cell_type": "code",
   "execution_count": 113,
   "metadata": {
    "collapsed": true
   },
   "outputs": [],
   "source": [
    "del df2[\"Collection Date\"]\n",
    "del df2[\"url\"]"
   ]
  },
  {
   "cell_type": "code",
   "execution_count": 114,
   "metadata": {
    "collapsed": true
   },
   "outputs": [],
   "source": [
    "df2.columns = map(str.lower, df2.columns)"
   ]
  },
  {
   "cell_type": "code",
   "execution_count": 115,
   "metadata": {
    "collapsed": true
   },
   "outputs": [],
   "source": [
    "df2 = df2.rename(columns = {\n",
    "    'neighborhood code':'nhood',\n",
    "  })\n",
    "\n"
   ]
  },
  {
   "cell_type": "code",
   "execution_count": 116,
   "metadata": {},
   "outputs": [
    {
     "data": {
      "text/plain": [
       "study_id      int64\n",
       "address     float64\n",
       "street       object\n",
       "nhood        object\n",
       "dtype: object"
      ]
     },
     "execution_count": 116,
     "metadata": {},
     "output_type": "execute_result"
    }
   ],
   "source": [
    "df2.dtypes"
   ]
  },
  {
   "cell_type": "code",
   "execution_count": 117,
   "metadata": {
    "collapsed": true
   },
   "outputs": [],
   "source": [
    "df2.address = df2.address.astype(int) #get rid of float and .0s"
   ]
  },
  {
   "cell_type": "code",
   "execution_count": 118,
   "metadata": {
    "collapsed": true
   },
   "outputs": [],
   "source": [
    "df2.address = df2.address.astype(str)"
   ]
  },
  {
   "cell_type": "code",
   "execution_count": 119,
   "metadata": {},
   "outputs": [
    {
     "data": {
      "text/html": [
       "<div>\n",
       "<table border=\"1\" class=\"dataframe\">\n",
       "  <thead>\n",
       "    <tr style=\"text-align: right;\">\n",
       "      <th></th>\n",
       "      <th>study_id</th>\n",
       "      <th>address</th>\n",
       "      <th>street</th>\n",
       "      <th>nhood</th>\n",
       "    </tr>\n",
       "  </thead>\n",
       "  <tbody>\n",
       "  </tbody>\n",
       "</table>\n",
       "</div>"
      ],
      "text/plain": [
       "Empty DataFrame\n",
       "Columns: [study_id, address, street, nhood]\n",
       "Index: []"
      ]
     },
     "execution_count": 119,
     "metadata": {},
     "output_type": "execute_result"
    }
   ],
   "source": [
    "df2[df2.isnull().any(axis=1)]"
   ]
  },
  {
   "cell_type": "code",
   "execution_count": 120,
   "metadata": {},
   "outputs": [
    {
     "data": {
      "text/plain": [
       "False"
      ]
     },
     "execution_count": 120,
     "metadata": {},
     "output_type": "execute_result"
    }
   ],
   "source": [
    "df2.duplicated().values.any()"
   ]
  },
  {
   "cell_type": "markdown",
   "metadata": {},
   "source": [
    "## merge the two data sets"
   ]
  },
  {
   "cell_type": "code",
   "execution_count": 121,
   "metadata": {
    "collapsed": true
   },
   "outputs": [],
   "source": [
    "check = pd.merge(df1, df2, how='left', on=['study_id'])\n",
    "\n"
   ]
  },
  {
   "cell_type": "code",
   "execution_count": 122,
   "metadata": {},
   "outputs": [
    {
     "data": {
      "text/html": [
       "<div>\n",
       "<table border=\"1\" class=\"dataframe\">\n",
       "  <thead>\n",
       "    <tr style=\"text-align: right;\">\n",
       "      <th></th>\n",
       "      <th>study_id</th>\n",
       "      <th>direction</th>\n",
       "      <th>lowSpeed</th>\n",
       "      <th>highSpeed</th>\n",
       "      <th>timestamp</th>\n",
       "      <th>address</th>\n",
       "      <th>street</th>\n",
       "      <th>nhood</th>\n",
       "    </tr>\n",
       "  </thead>\n",
       "  <tbody>\n",
       "    <tr>\n",
       "      <th>0</th>\n",
       "      <td>7129</td>\n",
       "      <td>Westbound</td>\n",
       "      <td>1</td>\n",
       "      <td>5</td>\n",
       "      <td>2012-10-23</td>\n",
       "      <td>71</td>\n",
       "      <td>A ST</td>\n",
       "      <td>SOUTH BOSTON</td>\n",
       "    </tr>\n",
       "    <tr>\n",
       "      <th>1</th>\n",
       "      <td>7129</td>\n",
       "      <td>Westbound</td>\n",
       "      <td>6</td>\n",
       "      <td>10</td>\n",
       "      <td>2012-10-23</td>\n",
       "      <td>71</td>\n",
       "      <td>A ST</td>\n",
       "      <td>SOUTH BOSTON</td>\n",
       "    </tr>\n",
       "    <tr>\n",
       "      <th>2</th>\n",
       "      <td>7129</td>\n",
       "      <td>Westbound</td>\n",
       "      <td>11</td>\n",
       "      <td>15</td>\n",
       "      <td>2012-10-23</td>\n",
       "      <td>71</td>\n",
       "      <td>A ST</td>\n",
       "      <td>SOUTH BOSTON</td>\n",
       "    </tr>\n",
       "    <tr>\n",
       "      <th>3</th>\n",
       "      <td>7129</td>\n",
       "      <td>Westbound</td>\n",
       "      <td>16</td>\n",
       "      <td>20</td>\n",
       "      <td>2012-10-23</td>\n",
       "      <td>71</td>\n",
       "      <td>A ST</td>\n",
       "      <td>SOUTH BOSTON</td>\n",
       "    </tr>\n",
       "    <tr>\n",
       "      <th>4</th>\n",
       "      <td>7129</td>\n",
       "      <td>Westbound</td>\n",
       "      <td>21</td>\n",
       "      <td>25</td>\n",
       "      <td>2012-10-23</td>\n",
       "      <td>71</td>\n",
       "      <td>A ST</td>\n",
       "      <td>SOUTH BOSTON</td>\n",
       "    </tr>\n",
       "  </tbody>\n",
       "</table>\n",
       "</div>"
      ],
      "text/plain": [
       "   study_id  direction  lowSpeed highSpeed  timestamp address street  \\\n",
       "0      7129  Westbound         1         5 2012-10-23      71   A ST   \n",
       "1      7129  Westbound         6        10 2012-10-23      71   A ST   \n",
       "2      7129  Westbound        11        15 2012-10-23      71   A ST   \n",
       "3      7129  Westbound        16        20 2012-10-23      71   A ST   \n",
       "4      7129  Westbound        21        25 2012-10-23      71   A ST   \n",
       "\n",
       "          nhood  \n",
       "0  SOUTH BOSTON  \n",
       "1  SOUTH BOSTON  \n",
       "2  SOUTH BOSTON  \n",
       "3  SOUTH BOSTON  \n",
       "4  SOUTH BOSTON  "
      ]
     },
     "execution_count": 122,
     "metadata": {},
     "output_type": "execute_result"
    }
   ],
   "source": [
    "check.head()"
   ]
  },
  {
   "cell_type": "code",
   "execution_count": 123,
   "metadata": {},
   "outputs": [
    {
     "data": {
      "text/plain": [
       "study_id              int64\n",
       "direction            object\n",
       "lowSpeed              int64\n",
       "highSpeed            object\n",
       "timestamp    datetime64[ns]\n",
       "address              object\n",
       "street               object\n",
       "nhood                object\n",
       "dtype: object"
      ]
     },
     "execution_count": 123,
     "metadata": {},
     "output_type": "execute_result"
    }
   ],
   "source": [
    "check[check.isnull().any(axis=1)]\n",
    "check.dtypes"
   ]
  },
  {
   "cell_type": "code",
   "execution_count": 124,
   "metadata": {},
   "outputs": [
    {
     "data": {
      "text/plain": [
       "False"
      ]
     },
     "execution_count": 124,
     "metadata": {},
     "output_type": "execute_result"
    }
   ],
   "source": [
    "check.duplicated().values.any()"
   ]
  },
  {
   "cell_type": "markdown",
   "metadata": {},
   "source": [
    "## cleaning above, below making string for google maps"
   ]
  },
  {
   "cell_type": "code",
   "execution_count": 125,
   "metadata": {
    "collapsed": true
   },
   "outputs": [],
   "source": [
    "# i should have kept the studyid when I did the google map search"
   ]
  },
  {
   "cell_type": "code",
   "execution_count": 126,
   "metadata": {
    "collapsed": true
   },
   "outputs": [],
   "source": [
    "#used a modification of below to make a searchable address for google maps lat and lon request\n",
    "#and then short it back to have them match up since google formats differently\n",
    "\n",
    "\n",
    "check[\"combo\"] = check[\"address\"] + \" \" + check[\"street\"] \n",
    "\n"
   ]
  },
  {
   "cell_type": "code",
   "execution_count": 127,
   "metadata": {},
   "outputs": [
    {
     "data": {
      "text/plain": [
       "0    71 A ST\n",
       "1    71 A ST\n",
       "2    71 A ST\n",
       "3    71 A ST\n",
       "4    71 A ST\n",
       "Name: combo, dtype: object"
      ]
     },
     "execution_count": 127,
     "metadata": {},
     "output_type": "execute_result"
    }
   ],
   "source": [
    "check[\"combo\"].head()"
   ]
  },
  {
   "cell_type": "code",
   "execution_count": 128,
   "metadata": {},
   "outputs": [
    {
     "data": {
      "text/plain": [
       "False"
      ]
     },
     "execution_count": 128,
     "metadata": {},
     "output_type": "execute_result"
    }
   ],
   "source": [
    "check.duplicated().values.any()"
   ]
  },
  {
   "cell_type": "code",
   "execution_count": 129,
   "metadata": {
    "collapsed": true
   },
   "outputs": [],
   "source": [
    "## data below from google maps...used python and google API separately, \n",
    "#its best guess since some of the indications were street corners etc"
   ]
  },
  {
   "cell_type": "code",
   "execution_count": 130,
   "metadata": {
    "collapsed": true
   },
   "outputs": [],
   "source": [
    "speedData = [\n",
    "[42.3421607,-71.0549836, '71 A St, Boston, MA 02127, USA'],\n",
    "[42.3804841,-71.0636026, '26 Allston St, Charlestown, MA 02129, USA'],\n",
    "[42.2898087,-71.050238, '576 Ashmont St, Boston, MA 02122, USA'],\n",
    "[42.2850196,-71.0582837, '59 Beaumont St, Boston, MA 02124, USA'],\n",
    "[42.3030868,-71.1063525, '73 Brookley Rd, Boston, MA 02130, USA'],\n",
    "[42.3230781,-71.069741, '59 Burrell St, Boston, MA 02119, USA'],\n",
    "[42.3234261,-71.0626346, '53 Clapp St, Dorchester, MA 02125, USA'],\n",
    "[42.312709,-71.087342, '59 Crawford St, Dorchester, MA 02121, USA'],\n",
    "[42.338802,-71.0382392, '530 E 1st St, Boston, MA 02127, USA'],\n",
    "[42.3232024,-71.0618971, '28 Enterprise St, Boston, MA 02125, USA'],\n",
    "[42.2805833,-71.0735242, '58 Fairmount St, Boston, MA 02124, USA'],\n",
    "[42.2887666,-71.1305205, '11 Fairview St, Boston, MA 02131, USA'],\n",
    "[42.2864224,-71.1245869, '104 Florence St, Boston, MA 02131, USA'],\n",
    "[42.3076385,-71.0809018, '51 Geneva Ave, Boston, MA 02121, USA'],\n",
    "[42.3504522,-71.1331825, '31 Glenville Ave, Boston, MA 02134, USA'],\n",
    "[42.2592411,-71.1569126, '297 Grove St, Boston, MA 02132, USA'],\n",
    "[42.2576767,-71.1564091, '351 Grove St, West Roxbury, MA 02132, USA'],\n",
    "[42.3163323,-71.106148, '6 Hubbard St, Jamaica Plain, MA 02130, USA'],\n",
    "[42.3382784,-71.0934552, 'Rubenstein Hall, 464 Huntington Ave, Boston, MA 02115, USA'],\n",
    "[42.3394413,-71.0940044, '465 Huntington Ave, Boston, MA 02115, USA'],\n",
    "[42.3355611,-71.1016066, '665 Huntington Ave, Boston, MA 02115, USA'],\n",
    "[42.3349136,-71.102126, '670 Huntington Ave, Boston, MA 02115, USA'],\n",
    "[42.311829,-71.0918499, '111 Hutchings St, Dorchester, MA 02121, USA'],\n",
    "[42.2823934,-71.1186191, '528 Hyde Park Ave, Boston, MA 02131, USA'],\n",
    "[42.2819846,-71.1186056, '540 Hyde Park Ave, Boston, MA 02131, USA'],\n",
    "[42.253512,-71.124917, '1329 Hyde Park Ave, Hyde Park, MA 02136, USA'],\n",
    "[42.2465443,-71.1283066, '1532 Hyde Park Ave, Boston, MA 02136, USA'],\n",
    "[42.3330219,-71.0353993, '137 L St, Boston, MA 02127, USA'],\n",
    "[42.3326631,-71.0354774, '149 L St, Boston, MA 02127, USA'],\n",
    "[42.271405,-71.149298, '36 Maplewood St, West Roxbury, MA 02132, USA'],\n",
    "[42.3801978,-71.0623509, '25 Mystic St, Boston, MA 02129, USA'],\n",
    "[42.2880199,-71.052908, '42 Nahant Ave, Boston, MA 02122, USA'],\n",
    "[42.3014891,-71.0542027, '25 Park St, Boston, MA 02122, USA'],\n",
    "[42.314909,-71.115204, '18 Pond St, Boston, MA 02130, USA'],\n",
    "[42.3033912,-71.1055047, '85 Rossmore Rd, Boston, MA 02130, USA'],\n",
    "[42.3813251,-71.064783, '28 Sackville St, Charlestown, MA 02129, USA'],\n",
    "[42.2768982,-71.1555665, '106 St Theresa Ave, Boston, MA 02132, USA'],\n",
    "[42.2869565,-71.0652211, '525 Talbot Ave, Boston, MA 02124, USA'],\n",
    "[42.291841,-71.1121901, '125 Walk Hill St, Boston, MA 02130, USA'],\n",
    "[42.284596,-71.057083, '14 Westmoreland St, Dorchester Center, MA 02124, USA'],\n",
    "[42.304919,-71.1055449, '136 Williams St, Boston, MA 02130, USA'],\n",
    "[42.2717441,-71.0971397, '89 Woodhaven St, Boston, MA 02126, USA'],\n",
    "[42.3449533,-71.087347, '50 Edgerly Rd, Boston, MA 02115, USA'],\n",
    "[42.3824741,-71.0194047, '548 Bennington St, Boston, MA 02128, USA'],\n",
    "[42.305642,-71.1054533, '10 Dungarven Rd, Boston, MA 02130, USA'],\n",
    "[42.3064783,-71.059321, '1291 Dorchester Ave, Dorchester, MA 02122, USA'],\n",
    "[42.2572584,-71.1614746, '0 Washington St, Boston, MA 02132, USA'],\n",
    "[42.3107642,-71.1031038, '3286 Washington St, Boston, MA 02130, USA'],\n",
    "[42.3184892,-71.0954289, '2908 Washington St, Roxbury, MA 02119, USA'],\n",
    "[42.306244,-71.058431, '1298 Dorchester Ave, Dorchester, MA 02122, USA'],\n",
    "[42.3464096,-71.0511968, '205 A St, Boston, MA 02210, USA'],\n",
    "[42.3576174,-71.1280106, '259 Cambridge St, Boston, MA 02134, USA'],\n",
    "[42.3485838,-71.1336472, '1340A Commonwealth Avenue, Commonwealth, MA 02134, USA'],\n",
    "[42.3485838,-71.1336472, '1340A Commonwealth Avenue, Commonwealth, MA 02134, USA'],\n",
    "[42.3485838,-71.1336472, '1340A Commonwealth Avenue, Commonwealth, MA 02134, USA'],\n",
    "[42.3485838,-71.1336472, '1340A Commonwealth Avenue, Commonwealth, MA 02134, USA'],\n",
    "[42.3447192,-71.0434604, '411 D St, Boston, MA 02210, USA'],\n",
    "[42.3580958,-71.1329415, '65 Franklin St, Boston, MA 02134, USA'],\n",
    "[42.3421607,-71.0549836, '71 A St, Boston, MA 02127, USA'],\n",
    "[42.3804841,-71.0636026, '26 Allston St, Charlestown, MA 02129, USA'],\n",
    "[42.2898087,-71.050238, '576 Ashmont St, Boston, MA 02122, USA'],\n",
    "[42.2850196,-71.0583093, '59 Beaumont St, Dorchester Center, MA 02124, USA'],\n",
    "[42.3030868,-71.1063525, '73 Brookley Rd, Boston, MA 02130, USA'],\n",
    "[42.3234261,-71.0626346, '53 Clapp St, Dorchester, MA 02125, USA'],\n",
    "[42.312709,-71.087342, '59 Crawford St, Dorchester, MA 02121, USA'],\n",
    "[42.338802,-71.0382392, '530 E 1st St, Boston, MA 02127, USA'],\n",
    "[42.3232024,-71.0618971, '28 Enterprise St, Boston, MA 02125, USA'],\n",
    "[42.2805778,-71.0735107, '58 Fairmount St, Dorchester Center, MA 02124, USA'],\n",
    "[42.2887689,-71.1305146, '11 Fairview St, Roslindale, MA 02131, USA'],\n",
    "[42.2864359,-71.1246051, '104 Florence St, Roslindale, MA 02131, USA'],\n",
    "[42.3076689,-71.0809681, '51 Geneva Ave, Boston, MA 02121, USA'],\n",
    "[42.3504522,-71.1331825, '31 Glenville Ave, Boston, MA 02134, USA'],\n",
    "[42.2592392,-71.1569306, '297 Grove St, West Roxbury, MA 02132, USA'],\n",
    "[42.2576767,-71.1564091, '351 Grove St, West Roxbury, MA 02132, USA'],\n",
    "[42.3163323,-71.106148, '6 Hubbard St, Jamaica Plain, MA 02130, USA'],\n",
    "[42.3382784,-71.0934552, 'Rubenstein Hall, 464 Huntington Ave, Boston, MA 02115, USA'],\n",
    "[42.3394605,-71.0942121, '465 Huntington Ave, Boston, MA 02115, USA'],\n",
    "[42.3355611,-71.1016066, '665 Huntington Ave, Boston, MA 02115, USA'],\n",
    "[42.3349867,-71.1019755, '670 Huntington Ave, Boston, MA 02115, USA'],\n",
    "[42.311829,-71.0918499, '111 Hutchings St, Dorchester, MA 02121, USA'],\n",
    "[42.2823881,-71.1186113, '528 Hyde Park Ave, Roslindale, MA 02131, USA'],\n",
    "[42.2819838,-71.1185921, '540 Hyde Park Ave, Roslindale, MA 02131, USA'],\n",
    "[42.253512,-71.124917, '1329 Hyde Park Ave, Hyde Park, MA 02136, USA'],\n",
    "[42.2465516,-71.1283427, '1532 Hyde Park Ave, Hyde Park, MA 02136, USA'],\n",
    "[42.3330219,-71.0353993, '137 L St, Boston, MA 02127, USA'],\n",
    "[42.3326543,-71.035436, '149 L St, Boston, MA 02127, USA'],\n",
    "[42.2714277,-71.1492353, '36 Maplewood St, West Roxbury, MA 02132, USA'],\n",
    "[42.3801297,-71.0622528, '25 Mystic St, Charlestown, MA 02129, USA'],\n",
    "[42.2880291,-71.0528957, '42 Nahant Ave, Dorchester, MA 02122, USA'],\n",
    "[42.3014891,-71.0542027, '25 Park St, Boston, MA 02122, USA'],\n",
    "[42.314909,-71.115204, '18 Pond St, Boston, MA 02130, USA'],\n",
    "[42.3033912,-71.1055047, '85 Rossmore Rd, Boston, MA 02130, USA'],\n",
    "[42.3812661,-71.0648042, '28 Sackville St, Charlestown, MA 02129, USA'],\n",
    "[42.2768982,-71.1555665, '106 St Theresa Ave, Boston, MA 02132, USA'],\n",
    "[42.2869732,-71.065171, '525 Talbot Ave, Dorchester Center, MA 02124, USA'],\n",
    "[42.291841,-71.1121901, '125 Walk Hill St, Boston, MA 02130, USA'],\n",
    "[42.284596,-71.057083, '14 Westmoreland St, Dorchester Center, MA 02124, USA'],\n",
    "[42.304919,-71.1055449, '136 Williams St, Boston, MA 02130, USA'],\n",
    "[42.2717403,-71.0971551, '89 Woodhaven St, Mattapan, MA 02126, USA'],\n",
    "[42.3449533,-71.087347, '50 Edgerly Rd, Boston, MA 02115, USA'],\n",
    "[42.3824741,-71.0194047, '548 Bennington St, Boston, MA 02128, USA'],\n",
    "[42.305642,-71.1054533, '10 Dungarven Rd, Boston, MA 02130, USA'],\n",
    "[42.3064783,-71.059321, '1291 Dorchester Ave, Dorchester, MA 02122, USA'],\n",
    "[42.291699,-71.1228447, '4031 Washington St, Roslindale, MA 02131, USA'],\n",
    "[42.3107642,-71.1031038, '3286 Washington St, Boston, MA 02130, USA'],\n",
    "[42.3184892,-71.0954289, '2908 Washington St, Roxbury, MA 02119, USA'],\n",
    "[42.306244,-71.058431, '1298 Dorchester Ave, Dorchester, MA 02122, USA'],\n",
    "[42.3464096,-71.0511968, '205 A St, Boston, MA 02210, USA'],\n",
    "[42.3576174,-71.1280106, '259 Cambridge St, Boston, MA 02134, USA'],\n",
    "[42.3487601,-71.0838004, '49 Gloucester St, Boston, MA 02115, USA'],\n",
    "[42.3487601,-71.0838004, '49 Gloucester St, Boston, MA 02115, USA'],\n",
    "[42.3485838,-71.1336472, '1340A Commonwealth Avenue, Commonwealth, MA 02134, USA'],\n",
    "[42.3485838,-71.1336472, '1340A Commonwealth Avenue, Commonwealth, MA 02134, USA'],\n",
    "[42.3447192,-71.0434604, '411 D St, Boston, MA 02210, USA'],\n",
    "[42.3580958,-71.1329415, '65 Franklin St, Boston, MA 02134, USA'],\n",
    "[42.3506818,-71.0896065, '21 Massachusetts Ave, Boston, MA 02115, USA'],\n",
    "[42.3487601,-71.0838004, '49 Gloucester St, Boston, MA 02115, USA']\n",
    "];\n"
   ]
  },
  {
   "cell_type": "code",
   "execution_count": 131,
   "metadata": {
    "collapsed": true
   },
   "outputs": [],
   "source": [
    "#take the lat and lon data returned from google maps and put in a df\n",
    "df30 = pd.DataFrame(speedData)\n"
   ]
  },
  {
   "cell_type": "code",
   "execution_count": 132,
   "metadata": {},
   "outputs": [
    {
     "data": {
      "text/html": [
       "<div>\n",
       "<table border=\"1\" class=\"dataframe\">\n",
       "  <thead>\n",
       "    <tr style=\"text-align: right;\">\n",
       "      <th></th>\n",
       "      <th>0</th>\n",
       "      <th>1</th>\n",
       "      <th>2</th>\n",
       "    </tr>\n",
       "  </thead>\n",
       "  <tbody>\n",
       "    <tr>\n",
       "      <th>0</th>\n",
       "      <td>42.342161</td>\n",
       "      <td>-71.054984</td>\n",
       "      <td>71 A St, Boston, MA 02127, USA</td>\n",
       "    </tr>\n",
       "    <tr>\n",
       "      <th>1</th>\n",
       "      <td>42.380484</td>\n",
       "      <td>-71.063603</td>\n",
       "      <td>26 Allston St, Charlestown, MA 02129, USA</td>\n",
       "    </tr>\n",
       "    <tr>\n",
       "      <th>2</th>\n",
       "      <td>42.289809</td>\n",
       "      <td>-71.050238</td>\n",
       "      <td>576 Ashmont St, Boston, MA 02122, USA</td>\n",
       "    </tr>\n",
       "    <tr>\n",
       "      <th>3</th>\n",
       "      <td>42.285020</td>\n",
       "      <td>-71.058284</td>\n",
       "      <td>59 Beaumont St, Boston, MA 02124, USA</td>\n",
       "    </tr>\n",
       "    <tr>\n",
       "      <th>4</th>\n",
       "      <td>42.303087</td>\n",
       "      <td>-71.106352</td>\n",
       "      <td>73 Brookley Rd, Boston, MA 02130, USA</td>\n",
       "    </tr>\n",
       "  </tbody>\n",
       "</table>\n",
       "</div>"
      ],
      "text/plain": [
       "           0          1                                          2\n",
       "0  42.342161 -71.054984             71 A St, Boston, MA 02127, USA\n",
       "1  42.380484 -71.063603  26 Allston St, Charlestown, MA 02129, USA\n",
       "2  42.289809 -71.050238      576 Ashmont St, Boston, MA 02122, USA\n",
       "3  42.285020 -71.058284      59 Beaumont St, Boston, MA 02124, USA\n",
       "4  42.303087 -71.106352      73 Brookley Rd, Boston, MA 02130, USA"
      ]
     },
     "execution_count": 132,
     "metadata": {},
     "output_type": "execute_result"
    }
   ],
   "source": [
    "df30.head()"
   ]
  },
  {
   "cell_type": "code",
   "execution_count": 133,
   "metadata": {},
   "outputs": [
    {
     "data": {
      "text/plain": [
       "True"
      ]
     },
     "execution_count": 133,
     "metadata": {},
     "output_type": "execute_result"
    }
   ],
   "source": [
    "df30.duplicated().values.any()"
   ]
  },
  {
   "cell_type": "code",
   "execution_count": 134,
   "metadata": {},
   "outputs": [
    {
     "data": {
      "text/plain": [
       "41"
      ]
     },
     "execution_count": 134,
     "metadata": {},
     "output_type": "execute_result"
    }
   ],
   "source": [
    "df30.duplicated().values.sum()"
   ]
  },
  {
   "cell_type": "code",
   "execution_count": 135,
   "metadata": {},
   "outputs": [
    {
     "data": {
      "text/html": [
       "<div>\n",
       "<table border=\"1\" class=\"dataframe\">\n",
       "  <thead>\n",
       "    <tr style=\"text-align: right;\">\n",
       "      <th></th>\n",
       "      <th>0</th>\n",
       "      <th>1</th>\n",
       "      <th>2</th>\n",
       "    </tr>\n",
       "  </thead>\n",
       "  <tbody>\n",
       "    <tr>\n",
       "      <th>53</th>\n",
       "      <td>42.348584</td>\n",
       "      <td>-71.133647</td>\n",
       "      <td>1340A Commonwealth Avenue, Commonwealth, MA 02...</td>\n",
       "    </tr>\n",
       "    <tr>\n",
       "      <th>54</th>\n",
       "      <td>42.348584</td>\n",
       "      <td>-71.133647</td>\n",
       "      <td>1340A Commonwealth Avenue, Commonwealth, MA 02...</td>\n",
       "    </tr>\n",
       "    <tr>\n",
       "      <th>55</th>\n",
       "      <td>42.348584</td>\n",
       "      <td>-71.133647</td>\n",
       "      <td>1340A Commonwealth Avenue, Commonwealth, MA 02...</td>\n",
       "    </tr>\n",
       "    <tr>\n",
       "      <th>58</th>\n",
       "      <td>42.342161</td>\n",
       "      <td>-71.054984</td>\n",
       "      <td>71 A St, Boston, MA 02127, USA</td>\n",
       "    </tr>\n",
       "    <tr>\n",
       "      <th>59</th>\n",
       "      <td>42.380484</td>\n",
       "      <td>-71.063603</td>\n",
       "      <td>26 Allston St, Charlestown, MA 02129, USA</td>\n",
       "    </tr>\n",
       "  </tbody>\n",
       "</table>\n",
       "</div>"
      ],
      "text/plain": [
       "            0          1                                                  2\n",
       "53  42.348584 -71.133647  1340A Commonwealth Avenue, Commonwealth, MA 02...\n",
       "54  42.348584 -71.133647  1340A Commonwealth Avenue, Commonwealth, MA 02...\n",
       "55  42.348584 -71.133647  1340A Commonwealth Avenue, Commonwealth, MA 02...\n",
       "58  42.342161 -71.054984                     71 A St, Boston, MA 02127, USA\n",
       "59  42.380484 -71.063603          26 Allston St, Charlestown, MA 02129, USA"
      ]
     },
     "execution_count": 135,
     "metadata": {},
     "output_type": "execute_result"
    }
   ],
   "source": [
    "df30[df30.duplicated()].head()"
   ]
  },
  {
   "cell_type": "code",
   "execution_count": 136,
   "metadata": {
    "collapsed": true
   },
   "outputs": [],
   "source": [
    "df30 = df30.drop_duplicates()"
   ]
  },
  {
   "cell_type": "code",
   "execution_count": 137,
   "metadata": {},
   "outputs": [
    {
     "data": {
      "text/plain": [
       "76"
      ]
     },
     "execution_count": 137,
     "metadata": {},
     "output_type": "execute_result"
    }
   ],
   "source": [
    "len(df30)"
   ]
  },
  {
   "cell_type": "code",
   "execution_count": 138,
   "metadata": {
    "collapsed": true
   },
   "outputs": [],
   "source": [
    "df30[\"lat\"] = df30[0]\n",
    "df30[\"lon\"] = df30[1]\n",
    "df30[\"combo\"] = df30[2]\n"
   ]
  },
  {
   "cell_type": "code",
   "execution_count": 139,
   "metadata": {
    "collapsed": true
   },
   "outputs": [],
   "source": [
    "del df30[0]\n",
    "del df30[1]\n",
    "del df30[2]"
   ]
  },
  {
   "cell_type": "code",
   "execution_count": 140,
   "metadata": {
    "collapsed": true
   },
   "outputs": [],
   "source": [
    "#trim down df30 combo splitting on comma\n",
    "\n",
    "df30[\"combo\"] = df30[\"combo\"].str.split(\",\").str[0] #indicates which part gets into the combo"
   ]
  },
  {
   "cell_type": "code",
   "execution_count": 141,
   "metadata": {
    "collapsed": true
   },
   "outputs": [],
   "source": [
    "# make them both lower case\n",
    "check['combo'] = check['combo'].str.lower()\n",
    "df30['combo'] = df30['combo'].str.lower()"
   ]
  },
  {
   "cell_type": "code",
   "execution_count": 142,
   "metadata": {},
   "outputs": [
    {
     "name": "stdout",
     "output_type": "stream",
     "text": [
      "0           71 a st\n",
      "1     26 allston st\n",
      "2    576 ashmont st\n",
      "3    59 beaumont st\n",
      "4    73 brookley rd\n",
      "Name: combo, dtype: object 0    71 a st\n",
      "1    71 a st\n",
      "2    71 a st\n",
      "3    71 a st\n",
      "4    71 a st\n",
      "Name: combo, dtype: object\n"
     ]
    }
   ],
   "source": [
    "\n",
    "print(df30.combo.head(), check.combo.head())\n"
   ]
  },
  {
   "cell_type": "code",
   "execution_count": 143,
   "metadata": {},
   "outputs": [
    {
     "data": {
      "text/plain": [
       "True"
      ]
     },
     "execution_count": 143,
     "metadata": {},
     "output_type": "execute_result"
    }
   ],
   "source": [
    "df30.combo[0] == check.combo[1]"
   ]
  },
  {
   "cell_type": "code",
   "execution_count": 144,
   "metadata": {
    "collapsed": true
   },
   "outputs": [],
   "source": [
    "#merge lat and lon with larger data set\n",
    "speedMerge = pd.merge(check, df30, on=['combo'])"
   ]
  },
  {
   "cell_type": "code",
   "execution_count": 145,
   "metadata": {},
   "outputs": [
    {
     "data": {
      "text/html": [
       "<div>\n",
       "<table border=\"1\" class=\"dataframe\">\n",
       "  <thead>\n",
       "    <tr style=\"text-align: right;\">\n",
       "      <th></th>\n",
       "      <th>study_id</th>\n",
       "      <th>direction</th>\n",
       "      <th>lowSpeed</th>\n",
       "      <th>highSpeed</th>\n",
       "      <th>timestamp</th>\n",
       "      <th>address</th>\n",
       "      <th>street</th>\n",
       "      <th>nhood</th>\n",
       "      <th>combo</th>\n",
       "      <th>lat</th>\n",
       "      <th>lon</th>\n",
       "    </tr>\n",
       "  </thead>\n",
       "  <tbody>\n",
       "  </tbody>\n",
       "</table>\n",
       "</div>"
      ],
      "text/plain": [
       "Empty DataFrame\n",
       "Columns: [study_id, direction, lowSpeed, highSpeed, timestamp, address, street, nhood, combo, lat, lon]\n",
       "Index: []"
      ]
     },
     "execution_count": 145,
     "metadata": {},
     "output_type": "execute_result"
    }
   ],
   "source": [
    "speedMerge[speedMerge.isnull().any(axis=1)]"
   ]
  },
  {
   "cell_type": "code",
   "execution_count": 146,
   "metadata": {},
   "outputs": [
    {
     "data": {
      "text/plain": [
       "study_id              int64\n",
       "direction            object\n",
       "lowSpeed              int64\n",
       "highSpeed            object\n",
       "timestamp    datetime64[ns]\n",
       "address              object\n",
       "street               object\n",
       "nhood                object\n",
       "combo                object\n",
       "lat                 float64\n",
       "lon                 float64\n",
       "dtype: object"
      ]
     },
     "execution_count": 146,
     "metadata": {},
     "output_type": "execute_result"
    }
   ],
   "source": [
    "speedMerge.dtypes"
   ]
  },
  {
   "cell_type": "code",
   "execution_count": 147,
   "metadata": {},
   "outputs": [
    {
     "data": {
      "text/plain": [
       "False"
      ]
     },
     "execution_count": 147,
     "metadata": {},
     "output_type": "execute_result"
    }
   ],
   "source": [
    "speedMerge.duplicated().values.any()"
   ]
  },
  {
   "cell_type": "code",
   "execution_count": 148,
   "metadata": {},
   "outputs": [
    {
     "data": {
      "text/plain": [
       "0"
      ]
     },
     "execution_count": 148,
     "metadata": {},
     "output_type": "execute_result"
    }
   ],
   "source": [
    "speedMerge.duplicated().sum().sum()"
   ]
  },
  {
   "cell_type": "code",
   "execution_count": 149,
   "metadata": {},
   "outputs": [
    {
     "data": {
      "text/html": [
       "<div>\n",
       "<table border=\"1\" class=\"dataframe\">\n",
       "  <thead>\n",
       "    <tr style=\"text-align: right;\">\n",
       "      <th></th>\n",
       "      <th>study_id</th>\n",
       "      <th>direction</th>\n",
       "      <th>lowSpeed</th>\n",
       "      <th>highSpeed</th>\n",
       "      <th>timestamp</th>\n",
       "      <th>address</th>\n",
       "      <th>street</th>\n",
       "      <th>nhood</th>\n",
       "      <th>combo</th>\n",
       "      <th>lat</th>\n",
       "      <th>lon</th>\n",
       "    </tr>\n",
       "  </thead>\n",
       "  <tbody>\n",
       "  </tbody>\n",
       "</table>\n",
       "</div>"
      ],
      "text/plain": [
       "Empty DataFrame\n",
       "Columns: [study_id, direction, lowSpeed, highSpeed, timestamp, address, street, nhood, combo, lat, lon]\n",
       "Index: []"
      ]
     },
     "execution_count": 149,
     "metadata": {},
     "output_type": "execute_result"
    }
   ],
   "source": [
    "speedMerge[speedMerge.duplicated()].head()"
   ]
  },
  {
   "cell_type": "code",
   "execution_count": 150,
   "metadata": {},
   "outputs": [
    {
     "name": "stdout",
     "output_type": "stream",
     "text": [
      "53716 54340\n"
     ]
    }
   ],
   "source": [
    "print(len(check), len(speedMerge)) #why is it longer??"
   ]
  },
  {
   "cell_type": "code",
   "execution_count": 152,
   "metadata": {},
   "outputs": [
    {
     "data": {
      "text/html": [
       "<div>\n",
       "<table border=\"1\" class=\"dataframe\">\n",
       "  <thead>\n",
       "    <tr style=\"text-align: right;\">\n",
       "      <th></th>\n",
       "      <th>study_id</th>\n",
       "      <th>direction</th>\n",
       "      <th>lowSpeed</th>\n",
       "      <th>highSpeed</th>\n",
       "      <th>timestamp</th>\n",
       "      <th>address</th>\n",
       "      <th>street</th>\n",
       "      <th>nhood</th>\n",
       "      <th>combo</th>\n",
       "      <th>lat</th>\n",
       "      <th>lon</th>\n",
       "    </tr>\n",
       "  </thead>\n",
       "  <tbody>\n",
       "  </tbody>\n",
       "</table>\n",
       "</div>"
      ],
      "text/plain": [
       "Empty DataFrame\n",
       "Columns: [study_id, direction, lowSpeed, highSpeed, timestamp, address, street, nhood, combo, lat, lon]\n",
       "Index: []"
      ]
     },
     "execution_count": 152,
     "metadata": {},
     "output_type": "execute_result"
    }
   ],
   "source": [
    "speedMerge[speedMerge.isnull().any(axis=1)].head()"
   ]
  },
  {
   "cell_type": "code",
   "execution_count": 155,
   "metadata": {},
   "outputs": [
    {
     "data": {
      "text/plain": [
       "study_id              int64\n",
       "direction            object\n",
       "lowSpeed              int64\n",
       "highSpeed            object\n",
       "timestamp    datetime64[ns]\n",
       "address              object\n",
       "street               object\n",
       "nhood                object\n",
       "combo                object\n",
       "lat                 float64\n",
       "lon                 float64\n",
       "dtype: object"
      ]
     },
     "execution_count": 155,
     "metadata": {},
     "output_type": "execute_result"
    }
   ],
   "source": [
    "speedMerge.dtypes"
   ]
  },
  {
   "cell_type": "code",
   "execution_count": 156,
   "metadata": {
    "collapsed": true
   },
   "outputs": [],
   "source": [
    "#export speedMerge to csv to use in other sheet instead of the two csvs of speed\n",
    "speedMerge.to_csv(\"speedClean.csv\")"
   ]
  },
  {
   "cell_type": "code",
   "execution_count": null,
   "metadata": {
    "collapsed": true
   },
   "outputs": [],
   "source": []
  },
  {
   "cell_type": "code",
   "execution_count": null,
   "metadata": {
    "collapsed": true
   },
   "outputs": [],
   "source": []
  }
 ],
 "metadata": {
  "kernelspec": {
   "display_name": "Python 3",
   "language": "python",
   "name": "python3"
  },
  "language_info": {
   "codemirror_mode": {
    "name": "ipython",
    "version": 3
   },
   "file_extension": ".py",
   "mimetype": "text/x-python",
   "name": "python",
   "nbconvert_exporter": "python",
   "pygments_lexer": "ipython3",
   "version": "3.6.0"
  }
 },
 "nbformat": 4,
 "nbformat_minor": 2
}
